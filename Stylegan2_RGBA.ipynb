{
  "nbformat": 4,
  "nbformat_minor": 0,
  "metadata": {
    "colab": {
      "name": "Stylegan2 RGBA.ipynb",
      "provenance": [],
      "collapsed_sections": [],
      "machine_shape": "hm",
      "mount_file_id": "1io-VJak1zzbBSNopQ50-2jVz-LfZUH_L",
      "authorship_tag": "ABX9TyNIKiJTmyl1AzSQ7bj6q4Tp",
      "include_colab_link": true
    },
    "kernelspec": {
      "name": "python3",
      "display_name": "Python 3"
    },
    "accelerator": "GPU"
  },
  "cells": [
    {
      "cell_type": "markdown",
      "metadata": {
        "id": "view-in-github",
        "colab_type": "text"
      },
      "source": [
        "<a href=\"https://colab.research.google.com/github/eswahn/stylegan2/blob/master/Stylegan2_RGBA.ipynb\" target=\"_parent\"><img src=\"https://colab.research.google.com/assets/colab-badge.svg\" alt=\"Open In Colab\"/></a>"
      ]
    },
    {
      "cell_type": "code",
      "metadata": {
        "id": "fiB2L4Qyeliw",
        "colab_type": "code",
        "colab": {
          "base_uri": "https://localhost:8080/",
          "height": 221
        },
        "outputId": "07660c6c-659e-4abf-ed29-36372f966693"
      },
      "source": [
        "# INITIALIZE\n",
        "\n",
        "%tensorflow_version 1.x\n",
        "\n",
        "!git clone https://github.com/eswahn/stylegan2.git\n",
        "%cd stylegan2\n",
        "\n",
        "!nvcc test_nvcc.cu -o test_nvcc -run\n",
        "!nvidia-smi -L"
      ],
      "execution_count": 1,
      "outputs": [
        {
          "output_type": "stream",
          "text": [
            "TensorFlow 1.x selected.\n",
            "Cloning into 'stylegan2'...\n",
            "remote: Enumerating objects: 20, done.\u001b[K\n",
            "remote: Counting objects: 100% (20/20), done.\u001b[K\n",
            "remote: Compressing objects: 100% (20/20), done.\u001b[K\n",
            "remote: Total 242 (delta 7), reused 0 (delta 0), pack-reused 222\u001b[K\n",
            "Receiving objects: 100% (242/242), 2.32 MiB | 15.25 MiB/s, done.\n",
            "Resolving deltas: 100% (129/129), done.\n",
            "/content/stylegan2\n",
            "CPU says hello.\n",
            "GPU says hello.\n",
            "GPU 0: Tesla P100-PCIE-16GB (UUID: GPU-766e4276-b953-4745-970d-62eed7fa2db8)\n"
          ],
          "name": "stdout"
        }
      ]
    },
    {
      "cell_type": "code",
      "metadata": {
        "id": "4qZpXr_IX-mR",
        "colab_type": "code",
        "colab": {}
      },
      "source": [
        "# LOAD DATASET\n",
        "\n",
        "import math\n",
        "\n",
        "dataset_name = 'andes-rgba'\n",
        "dataset_path = '/content/drive/My\\ Drive/Data/%s.tar.gz' % dataset_name     # path to tgz archive\n",
        "result_dir = '/content/drive/My\\ Drive/Results/stylegan2/' + dataset_name   # path to results\n",
        "\n",
        "resolution = 512\n",
        "min_w, min_h = 4, 4                                                         # square\n",
        "resolution_n = int(math.log2(resolution/min_w))                             # re resolution, see skyflynil repo\n",
        "\n",
        "\n",
        "!cp $dataset_path ./\n",
        "!tar -xf *.tar.gz\n",
        "!rm *.tar.gz\n",
        "!mkdir dataset"
      ],
      "execution_count": 2,
      "outputs": []
    },
    {
      "cell_type": "code",
      "metadata": {
        "colab_type": "code",
        "id": "Cf3KB5cn-Y10",
        "colab": {
          "base_uri": "https://localhost:8080/",
          "height": 115
        },
        "outputId": "25f5aab4-7c4d-419a-b909-4b9a76f87e77"
      },
      "source": [
        "# PREPARE DATASET\n",
        "\n",
        "!python dataset_tool.py create_from_images ./dataset/$dataset_name $dataset_name"
      ],
      "execution_count": null,
      "outputs": [
        {
          "output_type": "stream",
          "text": [
            "Loading images from \"andes-rgba\"\n",
            "detected 5302 images ...\n",
            "Creating dataset \"./dataset/andes-rgba\"\n",
            "Adding the images to tfrecords ...\n"
          ],
          "name": "stdout"
        }
      ]
    },
    {
      "cell_type": "code",
      "metadata": {
        "id": "ZJermcQLe2n2",
        "colab_type": "code",
        "colab": {}
      },
      "source": [
        "# START / RESUME TRAINING\n",
        "\n",
        "!python run_training.py --use-raw=false --config=config-e --metric=none --num-gpus=1 --total-kimg=20000 \\\n",
        "                        --min-h=$min-h --min-w=$min-w --res-log2=$resolution_n --mirror-augment=true --mirror-augment-v=true \\\n",
        "                        --result-dir=$result_dir --data-dir=./dataset --dataset=$dataset_name "
      ],
      "execution_count": null,
      "outputs": []
    },
    {
      "cell_type": "code",
      "metadata": {
        "id": "LyYF7u7IjsmZ",
        "colab_type": "code",
        "colab": {}
      },
      "source": [
        "# TEST MODEL\n",
        "\n",
        "import glob, os\n",
        "\n",
        "network_dir = '/content/drive/My Drive/Results/stylegan2/' + dataset_name\n",
        "\n",
        "allpickles = glob.glob(os.path.join(result_dir, '*', 'network-*.pkl'))\n",
        "allpickles.sort(key=os.path.getctime)\n",
        "pkl_path = '\\\"%s\\\"' % allpickles[-1]\n",
        "\n",
        "!python run_generator.py generate-images --network=$pkl_path --seeds=0-100 --truncation-psi=1.0\n"
      ],
      "execution_count": null,
      "outputs": []
    }
  ]
}