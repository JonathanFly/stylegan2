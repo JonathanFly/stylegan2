{
  "nbformat": 4,
  "nbformat_minor": 0,
  "metadata": {
    "colab": {
      "name": "Stylegan2 RGBA.ipynb",
      "provenance": [],
      "collapsed_sections": [],
      "machine_shape": "hm",
      "mount_file_id": "1io-VJak1zzbBSNopQ50-2jVz-LfZUH_L",
      "authorship_tag": "ABX9TyO5+GQ6ec4kn5hoo0LAQEYa",
      "include_colab_link": true
    },
    "kernelspec": {
      "name": "python3",
      "display_name": "Python 3"
    },
    "accelerator": "GPU"
  },
  "cells": [
    {
      "cell_type": "markdown",
      "metadata": {
        "id": "view-in-github",
        "colab_type": "text"
      },
      "source": [
        "<a href=\"https://colab.research.google.com/github/eswahn/stylegan2/blob/master/Stylegan2_RGBA.ipynb\" target=\"_parent\"><img src=\"https://colab.research.google.com/assets/colab-badge.svg\" alt=\"Open In Colab\"/></a>"
      ]
    },
    {
      "cell_type": "code",
      "metadata": {
        "id": "fiB2L4Qyeliw",
        "colab_type": "code",
        "colab": {}
      },
      "source": [
        "# INITIALIZE\n",
        "\n",
        "%tensorflow_version 1.x\n",
        "\n",
        "!git clone https://github.com/eswahn/stylegan2.git\n",
        "%cd stylegan2\n",
        "\n",
        "!nvcc test_nvcc.cu -o test_nvcc -run\n",
        "!nvidia-smi -L"
      ],
      "execution_count": null,
      "outputs": []
    },
    {
      "cell_type": "code",
      "metadata": {
        "id": "4qZpXr_IX-mR",
        "colab_type": "code",
        "colab": {}
      },
      "source": [
        "# LOAD DATASET\n",
        "\n",
        "import math\n",
        "\n",
        "dataset_name = 'your_dataset'\n",
        "dataset_path = '/content/drive/My\\ Drive/Data/%s.tar.gz' % dataset_name     # path to tgz archive\n",
        "result_dir = '/content/drive/My\\ Drive/Results/stylegan2/' + dataset_name   # path to results\n",
        "\n",
        "resolution = 512\n",
        "min_w, min_h = 4, 4                                                         # square\n",
        "resolution_n = int(math.log2(resolution/min_w))                             # re resolution, see skyflynil repo\n",
        "\n",
        "\n",
        "!cp $dataset_path ./\n",
        "!tar -xf *.tar.gz\n",
        "!rm *.tar.gz\n",
        "!mkdir dataset"
      ],
      "execution_count": 2,
      "outputs": []
    },
    {
      "cell_type": "code",
      "metadata": {
        "colab_type": "code",
        "id": "Cf3KB5cn-Y10",
        "colab": {}
      },
      "source": [
        "# PREPARE DATASET\n",
        "\n",
        "!python dataset_tool.py create_from_images ./dataset/$dataset_name $dataset_name"
      ],
      "execution_count": null,
      "outputs": []
    },
    {
      "cell_type": "code",
      "metadata": {
        "id": "ZJermcQLe2n2",
        "colab_type": "code",
        "colab": {}
      },
      "source": [
        "# START / RESUME TRAINING\n",
        "\n",
        "!python run_training.py --use-raw=false --config=config-e --metric=none --num-gpus=1 --total-kimg=20000 \\\n",
        "                        --min-h=$min_h --min-w=$min_w --res-log2=$resolution_n --mirror-augment=false --mirror-augment-v=false \\\n",
        "                        --result-dir=$result_dir --data-dir=./dataset --dataset=$dataset_name"
      ],
      "execution_count": null,
      "outputs": []
    },
    {
      "cell_type": "code",
      "metadata": {
        "id": "LyYF7u7IjsmZ",
        "colab_type": "code",
        "colab": {}
      },
      "source": [
        "# TEST MODEL\n",
        "\n",
        "import glob, os\n",
        "\n",
        "network_dir = '/content/drive/My Drive/Results/stylegan2/' + dataset_name\n",
        "\n",
        "allpickles = glob.glob(os.path.join(network_dir, '*', 'network-*.pkl'))\n",
        "allpickles.sort(key=os.path.getctime)\n",
        "pkl_path = '\\\"%s\\\"' % allpickles[-1]\n",
        "\n",
        "!python run_generator.py generate-images --network=$pkl_path --seeds=0-100 --truncation-psi=1.0\n"
      ],
      "execution_count": null,
      "outputs": []
    }
  ]
}
